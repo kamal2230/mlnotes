{
 "cells": [
  {
   "cell_type": "raw",
   "metadata": {},
   "source": [
    "---\n",
    "title: \"KFold Cross Validation\"\n",
    "author: \"Charles\"\n",
    "date: 2020-08-17\n",
    "description: \"-\"\n",
    "type: technical_note\n",
    "draft: false\n",
    "---"
   ]
  },
  {
   "cell_type": "code",
   "execution_count": null,
   "metadata": {},
   "outputs": [],
   "source": [
    "from sklearn.model_selection import KFold"
   ]
  },
  {
   "cell_type": "code",
   "execution_count": null,
   "metadata": {},
   "outputs": [],
   "source": [
    "k_fold = KFold(n_splits=5, shuffle=True, random_state=2017)\n",
    "pred_test_final = 0"
   ]
  },
  {
   "cell_type": "markdown",
   "metadata": {},
   "source": [
    "### 5 folds are specified to show that 1 fold is for test and remaining is for train set. This is repeated for the next fold and so on. Minimum needs to be 2"
   ]
  },
  {
   "cell_type": "code",
   "execution_count": null,
   "metadata": {},
   "outputs": [],
   "source": [
    "for d_ind, v_ind in k_fold.split(train_x):\n",
    "    \n",
    "    d_x, v_x = train_x.loc[d_ind, :], train_x.loc[v_ind, :]\n",
    "    d_y, v_y = train_y[d_ind], train_y[v_ind]\n",
    "    pred_test, model, evals_result = run_lgb(d_x, d_y, v_x, v_y, test_x) #Running LightGBM here\n",
    "    pred_test_final += pred_test\n",
    "pred_test_final /= 5\n",
    "pred_test_final = np.expm1(pred_test_final) #e(pred_test_final)-1"
   ]
  }
 ],
 "metadata": {
  "kernelspec": {
   "display_name": "kagglevil",
   "language": "python",
   "name": "kagglevil"
  },
  "language_info": {
   "codemirror_mode": {
    "name": "ipython",
    "version": 3
   },
   "file_extension": ".py",
   "mimetype": "text/x-python",
   "name": "python",
   "nbconvert_exporter": "python",
   "pygments_lexer": "ipython3",
   "version": "3.8.5"
  }
 },
 "nbformat": 4,
 "nbformat_minor": 2
}
