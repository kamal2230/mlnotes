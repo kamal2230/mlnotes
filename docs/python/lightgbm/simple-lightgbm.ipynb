{
 "cells": [
  {
   "cell_type": "raw",
   "metadata": {},
   "source": [
    "---\n",
    "title: \"Baseline LightGBM model\"\n",
    "author: \"Charles\"\n",
    "date: 2020-08-16\n",
    "description: \"-\"\n",
    "type: technical_note\n",
    "draft: false\n",
    "---"
   ]
  },
  {
   "cell_type": "code",
   "execution_count": 1,
   "metadata": {},
   "outputs": [],
   "source": [
    "import lightgbm as lgb"
   ]
  },
  {
   "cell_type": "code",
   "execution_count": 2,
   "metadata": {},
   "outputs": [],
   "source": [
    "def run_lgb(train_x, train_y, val_x, val_y, test_x):\n",
    "    parameters = {\n",
    "        'objective': 'regression',\n",
    "        'metric': 'rmse',\n",
    "        'num_leaves': 30,\n",
    "        'learning_rate': 0.01,\n",
    "        'bagging_fraction': 0.7,\n",
    "        'feature_fraction': 0.7,\n",
    "        'bagging_frequency': 5,\n",
    "        'bagging_seed': 2018,\n",
    "        'verbosity': -1\n",
    "    }\n",
    "    \n",
    "    lgtrain = lgb.Dataset(train_x, label=train_y)\n",
    "    lgval = lgb.Dataset(val_x, label=val_y)\n",
    "    evals_result = {}\n",
    "    model = lgb.train(parameters, lgtrain, 1000, valid_sets=[lgval], early_stopping_rounds=100, verbose_eval=200, evals_result=evals_result)\n",
    "    \n",
    "    pred_test_y = model.predict(test_x, num_iteration=model.best_iteration)\n",
    "    \n",
    "    return pred_test_y, model, evals_result"
   ]
  },
  {
   "cell_type": "markdown",
   "metadata": {},
   "source": [
    "After creating this you can call KFold cross validation in another snippet"
   ]
  },
  {
   "cell_type": "code",
   "execution_count": null,
   "metadata": {},
   "outputs": [],
   "source": []
  }
 ],
 "metadata": {
  "kernelspec": {
   "display_name": "kagglevil",
   "language": "python",
   "name": "kagglevil"
  },
  "language_info": {
   "codemirror_mode": {
    "name": "ipython",
    "version": 3
   },
   "file_extension": ".py",
   "mimetype": "text/x-python",
   "name": "python",
   "nbconvert_exporter": "python",
   "pygments_lexer": "ipython3",
   "version": "3.8.5"
  }
 },
 "nbformat": 4,
 "nbformat_minor": 2
}
