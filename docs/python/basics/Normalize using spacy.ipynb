{
 "cells": [
  {
   "cell_type": "code",
   "execution_count": 1,
   "metadata": {},
   "outputs": [],
   "source": [
    "import spacy\n",
    "from spacy.lang.en.stop_words import STOP_WORDS\n",
    "nlp = spacy.load('en_core_web_md')"
   ]
  },
  {
   "cell_type": "code",
   "execution_count": 2,
   "metadata": {},
   "outputs": [],
   "source": [
    "def normalize(msg):\n",
    "    \n",
    "    doc = nlp(msg)\n",
    "    \n",
    "    res=[]\n",
    "    \n",
    "    #for sent in doc.sents:\n",
    "     #   print(sent.text)\n",
    "    \n",
    "    for token in doc:\n",
    "        \n",
    "        \n",
    "        if(token.is_stop or token.is_digit or token.is_punct or token.is_oov):\n",
    "            \n",
    "            pass\n",
    "        \n",
    "        else:\n",
    "            \n",
    "            res.append(token.lemma_.lower())\n",
    "    \n",
    "    return res"
   ]
  },
  {
   "cell_type": "code",
   "execution_count": 3,
   "metadata": {},
   "outputs": [
    {
     "data": {
      "text/plain": [
       "['open',\n",
       " 'source',\n",
       " 'software',\n",
       " 'library',\n",
       " 'advanced',\n",
       " 'natural',\n",
       " 'language',\n",
       " 'processing',\n",
       " 'write',\n",
       " 'programming',\n",
       " 'language',\n",
       " 'python',\n",
       " 'cython',\n",
       " 'library',\n",
       " 'publish',\n",
       " 'mit',\n",
       " 'license',\n",
       " 'main',\n",
       " 'developer',\n",
       " 'matthew',\n",
       " 'ines',\n",
       " 'founder',\n",
       " 'software',\n",
       " 'company',\n",
       " 'explosion']"
      ]
     },
     "execution_count": 3,
     "metadata": {},
     "output_type": "execute_result"
    }
   ],
   "source": [
    "normalize('spaCy is an open-source software library for advanced natural language processing, written in the programming languages Python and Cython. The library is published under the MIT license and its main developers are Matthew Honnibal and Ines Montani, the founders of the software company Explosion.')"
   ]
  },
  {
   "cell_type": "code",
   "execution_count": null,
   "metadata": {},
   "outputs": [],
   "source": []
  }
 ],
 "metadata": {
  "kernelspec": {
   "display_name": "kagglevil",
   "language": "python",
   "name": "kagglevil"
  },
  "language_info": {
   "codemirror_mode": {
    "name": "ipython",
    "version": 3
   },
   "file_extension": ".py",
   "mimetype": "text/x-python",
   "name": "python",
   "nbconvert_exporter": "python",
   "pygments_lexer": "ipython3",
   "version": "3.7.4"
  }
 },
 "nbformat": 4,
 "nbformat_minor": 2
}
